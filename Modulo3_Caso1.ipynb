{
 "cells": [
  {
   "cell_type": "markdown",
   "source": "\n<figure>\n<img src=\"/work/Modulo3_Caso1/fig/ISEADE LOGO Y ESCUDO.png\" align=\"center\"/> \n</figure> ",
   "metadata": {
    "cell_id": "3f7848a5-ad83-4704-a031-0032f9d8c4de",
    "tags": [],
    "deepnote_cell_type": "markdown"
   }
  },
  {
   "cell_type": "markdown",
   "source": "# Caso 1 - Introducción a los datos",
   "metadata": {
    "cell_id": "0272f489-e453-4b99-9674-38b82cd3ee45",
    "tags": [],
    "deepnote_cell_type": "markdown"
   }
  },
  {
   "cell_type": "markdown",
   "source": "## Problema de Negocio\n\nNos han dado a la tarea de entender varias características de nuestros clientes:\n- ¿Qué podemos decir de ellos?\n- ¿Qué puedes decir sobre los resultados de la campaña?\n- Si fuéramos a lanzar una nueva campaña de marketing ¿cuáles serían los puntos de conversación más importantes?",
   "metadata": {
    "cell_id": "5b5a1b77-d279-4f27-9230-321b9831f820",
    "tags": [],
    "deepnote_cell_type": "markdown"
   }
  },
  {
   "cell_type": "markdown",
   "source": "## Importación de Módulos\n\nDado que Python es un lenguaje de programación multipropósito, es necesaria la instalación y/o importación de módulos necesarios para trabajar con datos. Podemos encontrar librerías para gestionar los datos tales como [Numpy](https://numpy.org/doc/) y [Pandas](https://pandas.pydata.org/docs/), módulos para generación de gráficos [seaborn](https://seaborn.pydata.org/) y [matplotlib](https://matplotlib.org/) y módulos para realizar modelos de Machine Learning [sklearn](https://scikit-learn.org/stable/) y [statsmodels](https://www.statsmodels.org/stable/index.html)",
   "metadata": {
    "cell_id": "0272ae6d-268d-48c5-96f8-6091a02b12a2",
    "tags": [],
    "deepnote_cell_type": "markdown"
   }
  },
  {
   "cell_type": "code",
   "metadata": {
    "cell_id": "e7270b12-2eac-49bb-a60e-37a68ed871df",
    "tags": [],
    "deepnote_to_be_reexecuted": false,
    "source_hash": "a33e59f2",
    "execution_start": 1646138784855,
    "execution_millis": 4654,
    "deepnote_cell_type": "code"
   },
   "source": "import numpy as np \nimport pandas as pd \nimport seaborn as sns \nimport matplotlib.pyplot as plt",
   "execution_count": null,
   "outputs": []
  },
  {
   "cell_type": "markdown",
   "source": "## Importación de Datos",
   "metadata": {
    "cell_id": "6e793bc7-8d14-4840-bfd9-811dc6034aea",
    "tags": [],
    "deepnote_cell_type": "markdown"
   }
  },
  {
   "cell_type": "markdown",
   "source": "La información fue descargada de un conjunto de datos disponible en [Kaggle](https://www.kaggle.com/imakash3011/customer-personality-analysis). Estos datos son tabulares, y se encuentran en formato .csv. Por lo tanto pueden ser cargadas como una tabla en python. Esto puede ser realizado por medio de un DataFrame de pandas.  ",
   "metadata": {
    "cell_id": "694488e3-ed08-4c22-bf26-1661e05acfaa",
    "tags": [],
    "deepnote_cell_type": "markdown"
   }
  },
  {
   "cell_type": "code",
   "metadata": {
    "cell_id": "da5070f3-0784-411b-acec-902319ca0ce0",
    "tags": [],
    "deepnote_to_be_reexecuted": false,
    "source_hash": "b30a55f0",
    "execution_start": 1646138789518,
    "execution_millis": 338,
    "deepnote_cell_type": "code"
   },
   "source": "df_customers = pd.read_csv('/work/Modulo3_Caso1/data/Customers.csv',sep='\\t')\ndf_customers.head(3)",
   "execution_count": null,
   "outputs": [
    {
     "output_type": "execute_result",
     "execution_count": 2,
     "data": {
      "application/vnd.deepnote.dataframe.v3+json": {
       "column_count": 29,
       "row_count": 3,
       "columns": [
        {
         "name": "ID",
         "dtype": "int64",
         "stats": {
          "unique_count": 3,
          "nan_count": 0,
          "min": "2174",
          "max": "5524",
          "histogram": [
           {
            "bin_start": 2174,
            "bin_end": 2509,
            "count": 1
           },
           {
            "bin_start": 2509,
            "bin_end": 2844,
            "count": 0
           },
           {
            "bin_start": 2844,
            "bin_end": 3179,
            "count": 0
           },
           {
            "bin_start": 3179,
            "bin_end": 3514,
            "count": 0
           },
           {
            "bin_start": 3514,
            "bin_end": 3849,
            "count": 0
           },
           {
            "bin_start": 3849,
            "bin_end": 4184,
            "count": 1
           },
           {
            "bin_start": 4184,
            "bin_end": 4519,
            "count": 0
           },
           {
            "bin_start": 4519,
            "bin_end": 4854,
            "count": 0
           },
           {
            "bin_start": 4854,
            "bin_end": 5189,
            "count": 0
           },
           {
            "bin_start": 5189,
            "bin_end": 5524,
            "count": 1
           }
          ]
         }
        },
        {
         "name": "Year_Birth",
         "dtype": "int64",
         "stats": {
          "unique_count": 3,
          "nan_count": 0,
          "min": "1954",
          "max": "1965",
          "histogram": [
           {
            "bin_start": 1954,
            "bin_end": 1955.1,
            "count": 1
           },
           {
            "bin_start": 1955.1,
            "bin_end": 1956.2,
            "count": 0
           },
           {
            "bin_start": 1956.2,
            "bin_end": 1957.3,
            "count": 1
           },
           {
            "bin_start": 1957.3,
            "bin_end": 1958.4,
            "count": 0
           },
           {
            "bin_start": 1958.4,
            "bin_end": 1959.5,
            "count": 0
           },
           {
            "bin_start": 1959.5,
            "bin_end": 1960.6,
            "count": 0
           },
           {
            "bin_start": 1960.6,
            "bin_end": 1961.7,
            "count": 0
           },
           {
            "bin_start": 1961.7,
            "bin_end": 1962.8,
            "count": 0
           },
           {
            "bin_start": 1962.8,
            "bin_end": 1963.9,
            "count": 0
           },
           {
            "bin_start": 1963.9,
            "bin_end": 1965,
            "count": 1
           }
          ]
         }
        },
        {
         "name": "Education",
         "dtype": "object",
         "stats": {
          "unique_count": 1,
          "nan_count": 0,
          "categories": [
           {
            "name": "Graduation",
            "count": 3
           }
          ]
         }
        },
        {
         "name": "Marital_Status",
         "dtype": "object",
         "stats": {
          "unique_count": 2,
          "nan_count": 0,
          "categories": [
           {
            "name": "Single",
            "count": 2
           },
           {
            "name": "Together",
            "count": 1
           }
          ]
         }
        },
        {
         "name": "Income",
         "dtype": "float64",
         "stats": {
          "unique_count": 3,
          "nan_count": 0,
          "min": "46344.0",
          "max": "71613.0",
          "histogram": [
           {
            "bin_start": 46344,
            "bin_end": 48870.9,
            "count": 1
           },
           {
            "bin_start": 48870.9,
            "bin_end": 51397.8,
            "count": 0
           },
           {
            "bin_start": 51397.8,
            "bin_end": 53924.7,
            "count": 0
           },
           {
            "bin_start": 53924.7,
            "bin_end": 56451.6,
            "count": 0
           },
           {
            "bin_start": 56451.6,
            "bin_end": 58978.5,
            "count": 1
           },
           {
            "bin_start": 58978.5,
            "bin_end": 61505.4,
            "count": 0
           },
           {
            "bin_start": 61505.4,
            "bin_end": 64032.3,
            "count": 0
           },
           {
            "bin_start": 64032.3,
            "bin_end": 66559.2,
            "count": 0
           },
           {
            "bin_start": 66559.2,
            "bin_end": 69086.1,
            "count": 0
           },
           {
            "bin_start": 69086.1,
            "bin_end": 71613,
            "count": 1
           }
          ]
         }
        },
        {
         "name": "Kidhome",
         "dtype": "int64",
         "stats": {
          "unique_count": 2,
          "nan_count": 0,
          "min": "0",
          "max": "1",
          "histogram": [
           {
            "bin_start": 0,
            "bin_end": 0.1,
            "count": 2
           },
           {
            "bin_start": 0.1,
            "bin_end": 0.2,
            "count": 0
           },
           {
            "bin_start": 0.2,
            "bin_end": 0.30000000000000004,
            "count": 0
           },
           {
            "bin_start": 0.30000000000000004,
            "bin_end": 0.4,
            "count": 0
           },
           {
            "bin_start": 0.4,
            "bin_end": 0.5,
            "count": 0
           },
           {
            "bin_start": 0.5,
            "bin_end": 0.6000000000000001,
            "count": 0
           },
           {
            "bin_start": 0.6000000000000001,
            "bin_end": 0.7000000000000001,
            "count": 0
           },
           {
            "bin_start": 0.7000000000000001,
            "bin_end": 0.8,
            "count": 0
           },
           {
            "bin_start": 0.8,
            "bin_end": 0.9,
            "count": 0
           },
           {
            "bin_start": 0.9,
            "bin_end": 1,
            "count": 1
           }
          ]
         }
        },
        {
         "name": "Teenhome",
         "dtype": "int64",
         "stats": {
          "unique_count": 2,
          "nan_count": 0,
          "min": "0",
          "max": "1",
          "histogram": [
           {
            "bin_start": 0,
            "bin_end": 0.1,
            "count": 2
           },
           {
            "bin_start": 0.1,
            "bin_end": 0.2,
            "count": 0
           },
           {
            "bin_start": 0.2,
            "bin_end": 0.30000000000000004,
            "count": 0
           },
           {
            "bin_start": 0.30000000000000004,
            "bin_end": 0.4,
            "count": 0
           },
           {
            "bin_start": 0.4,
            "bin_end": 0.5,
            "count": 0
           },
           {
            "bin_start": 0.5,
            "bin_end": 0.6000000000000001,
            "count": 0
           },
           {
            "bin_start": 0.6000000000000001,
            "bin_end": 0.7000000000000001,
            "count": 0
           },
           {
            "bin_start": 0.7000000000000001,
            "bin_end": 0.8,
            "count": 0
           },
           {
            "bin_start": 0.8,
            "bin_end": 0.9,
            "count": 0
           },
           {
            "bin_start": 0.9,
            "bin_end": 1,
            "count": 1
           }
          ]
         }
        },
        {
         "name": "Dt_Customer",
         "dtype": "object",
         "stats": {
          "unique_count": 3,
          "nan_count": 0,
          "categories": [
           {
            "name": "04-09-2012",
            "count": 1
           },
           {
            "name": "08-03-2014",
            "count": 1
           },
           {
            "name": "21-08-2013",
            "count": 1
           }
          ]
         }
        },
        {
         "name": "Recency",
         "dtype": "int64",
         "stats": {
          "unique_count": 3,
          "nan_count": 0,
          "min": "26",
          "max": "58",
          "histogram": [
           {
            "bin_start": 26,
            "bin_end": 29.2,
            "count": 1
           },
           {
            "bin_start": 29.2,
            "bin_end": 32.4,
            "count": 0
           },
           {
            "bin_start": 32.4,
            "bin_end": 35.6,
            "count": 0
           },
           {
            "bin_start": 35.6,
            "bin_end": 38.8,
            "count": 1
           },
           {
            "bin_start": 38.8,
            "bin_end": 42,
            "count": 0
           },
           {
            "bin_start": 42,
            "bin_end": 45.2,
            "count": 0
           },
           {
            "bin_start": 45.2,
            "bin_end": 48.400000000000006,
            "count": 0
           },
           {
            "bin_start": 48.400000000000006,
            "bin_end": 51.6,
            "count": 0
           },
           {
            "bin_start": 51.6,
            "bin_end": 54.8,
            "count": 0
           },
           {
            "bin_start": 54.8,
            "bin_end": 58,
            "count": 1
           }
          ]
         }
        },
        {
         "name": "MntWines",
         "dtype": "int64",
         "stats": {
          "unique_count": 3,
          "nan_count": 0,
          "min": "11",
          "max": "635",
          "histogram": [
           {
            "bin_start": 11,
            "bin_end": 73.4,
            "count": 1
           },
           {
            "bin_start": 73.4,
            "bin_end": 135.8,
            "count": 0
           },
           {
            "bin_start": 135.8,
            "bin_end": 198.2,
            "count": 0
           },
           {
            "bin_start": 198.2,
            "bin_end": 260.6,
            "count": 0
           },
           {
            "bin_start": 260.6,
            "bin_end": 323,
            "count": 0
           },
           {
            "bin_start": 323,
            "bin_end": 385.4,
            "count": 0
           },
           {
            "bin_start": 385.4,
            "bin_end": 447.8,
            "count": 1
           },
           {
            "bin_start": 447.8,
            "bin_end": 510.2,
            "count": 0
           },
           {
            "bin_start": 510.2,
            "bin_end": 572.6,
            "count": 0
           },
           {
            "bin_start": 572.6,
            "bin_end": 635,
            "count": 1
           }
          ]
         }
        },
        {
         "name": "MntFruits",
         "dtype": "int64",
         "stats": {
          "unique_count": 3,
          "nan_count": 0,
          "min": "1",
          "max": "88",
          "histogram": [
           {
            "bin_start": 1,
            "bin_end": 9.7,
            "count": 1
           },
           {
            "bin_start": 9.7,
            "bin_end": 18.4,
            "count": 0
           },
           {
            "bin_start": 18.4,
            "bin_end": 27.099999999999998,
            "count": 0
           },
           {
            "bin_start": 27.099999999999998,
            "bin_end": 35.8,
            "count": 0
           },
           {
            "bin_start": 35.8,
            "bin_end": 44.5,
            "count": 0
           },
           {
            "bin_start": 44.5,
            "bin_end": 53.199999999999996,
            "count": 1
           },
           {
            "bin_start": 53.199999999999996,
            "bin_end": 61.89999999999999,
            "count": 0
           },
           {
            "bin_start": 61.89999999999999,
            "bin_end": 70.6,
            "count": 0
           },
           {
            "bin_start": 70.6,
            "bin_end": 79.3,
            "count": 0
           },
           {
            "bin_start": 79.3,
            "bin_end": 88,
            "count": 1
           }
          ]
         }
        },
        {
         "name": "MntMeatProducts",
         "dtype": "int64",
         "stats": {
          "unique_count": 3,
          "nan_count": 0,
          "min": "6",
          "max": "546",
          "histogram": [
           {
            "bin_start": 6,
            "bin_end": 60,
            "count": 1
           },
           {
            "bin_start": 60,
            "bin_end": 114,
            "count": 0
           },
           {
            "bin_start": 114,
            "bin_end": 168,
            "count": 1
           },
           {
            "bin_start": 168,
            "bin_end": 222,
            "count": 0
           },
           {
            "bin_start": 222,
            "bin_end": 276,
            "count": 0
           },
           {
            "bin_start": 276,
            "bin_end": 330,
            "count": 0
           },
           {
            "bin_start": 330,
            "bin_end": 384,
            "count": 0
           },
           {
            "bin_start": 384,
            "bin_end": 438,
            "count": 0
           },
           {
            "bin_start": 438,
            "bin_end": 492,
            "count": 0
           },
           {
            "bin_start": 492,
            "bin_end": 546,
            "count": 1
           }
          ]
         }
        },
        {
         "name": "MntFishProducts",
         "dtype": "int64",
         "stats": {
          "unique_count": 3,
          "nan_count": 0,
          "min": "2",
          "max": "172",
          "histogram": [
           {
            "bin_start": 2,
            "bin_end": 19,
            "count": 1
           },
           {
            "bin_start": 19,
            "bin_end": 36,
            "count": 0
           },
           {
            "bin_start": 36,
            "bin_end": 53,
            "count": 0
           },
           {
            "bin_start": 53,
            "bin_end": 70,
            "count": 0
           },
           {
            "bin_start": 70,
            "bin_end": 87,
            "count": 0
           },
           {
            "bin_start": 87,
            "bin_end": 104,
            "count": 0
           },
           {
            "bin_start": 104,
            "bin_end": 121,
            "count": 1
           },
           {
            "bin_start": 121,
            "bin_end": 138,
            "count": 0
           },
           {
            "bin_start": 138,
            "bin_end": 155,
            "count": 0
           },
           {
            "bin_start": 155,
            "bin_end": 172,
            "count": 1
           }
          ]
         }
        },
        {
         "name": "MntSweetProducts",
         "dtype": "int64",
         "stats": {
          "unique_count": 3,
          "nan_count": 0,
          "min": "1",
          "max": "88",
          "histogram": [
           {
            "bin_start": 1,
            "bin_end": 9.7,
            "count": 1
           },
           {
            "bin_start": 9.7,
            "bin_end": 18.4,
            "count": 0
           },
           {
            "bin_start": 18.4,
            "bin_end": 27.099999999999998,
            "count": 1
           },
           {
            "bin_start": 27.099999999999998,
            "bin_end": 35.8,
            "count": 0
           },
           {
            "bin_start": 35.8,
            "bin_end": 44.5,
            "count": 0
           },
           {
            "bin_start": 44.5,
            "bin_end": 53.199999999999996,
            "count": 0
           },
           {
            "bin_start": 53.199999999999996,
            "bin_end": 61.89999999999999,
            "count": 0
           },
           {
            "bin_start": 61.89999999999999,
            "bin_end": 70.6,
            "count": 0
           },
           {
            "bin_start": 70.6,
            "bin_end": 79.3,
            "count": 0
           },
           {
            "bin_start": 79.3,
            "bin_end": 88,
            "count": 1
           }
          ]
         }
        },
        {
         "name": "MntGoldProds",
         "dtype": "int64",
         "stats": {
          "unique_count": 3,
          "nan_count": 0,
          "min": "6",
          "max": "88",
          "histogram": [
           {
            "bin_start": 6,
            "bin_end": 14.2,
            "count": 1
           },
           {
            "bin_start": 14.2,
            "bin_end": 22.4,
            "count": 0
           },
           {
            "bin_start": 22.4,
            "bin_end": 30.599999999999998,
            "count": 0
           },
           {
            "bin_start": 30.599999999999998,
            "bin_end": 38.8,
            "count": 0
           },
           {
            "bin_start": 38.8,
            "bin_end": 47,
            "count": 1
           },
           {
            "bin_start": 47,
            "bin_end": 55.199999999999996,
            "count": 0
           },
           {
            "bin_start": 55.199999999999996,
            "bin_end": 63.39999999999999,
            "count": 0
           },
           {
            "bin_start": 63.39999999999999,
            "bin_end": 71.6,
            "count": 0
           },
           {
            "bin_start": 71.6,
            "bin_end": 79.8,
            "count": 0
           },
           {
            "bin_start": 79.8,
            "bin_end": 88,
            "count": 1
           }
          ]
         }
        },
        {
         "name": "NumDealsPurchases",
         "dtype": "int64",
         "stats": {
          "unique_count": 3,
          "nan_count": 0,
          "min": "1",
          "max": "3",
          "histogram": [
           {
            "bin_start": 1,
            "bin_end": 1.2,
            "count": 1
           },
           {
            "bin_start": 1.2,
            "bin_end": 1.4,
            "count": 0
           },
           {
            "bin_start": 1.4,
            "bin_end": 1.6,
            "count": 0
           },
           {
            "bin_start": 1.6,
            "bin_end": 1.8,
            "count": 0
           },
           {
            "bin_start": 1.8,
            "bin_end": 2,
            "count": 0
           },
           {
            "bin_start": 2,
            "bin_end": 2.2,
            "count": 1
           },
           {
            "bin_start": 2.2,
            "bin_end": 2.4000000000000004,
            "count": 0
           },
           {
            "bin_start": 2.4000000000000004,
            "bin_end": 2.6,
            "count": 0
           },
           {
            "bin_start": 2.6,
            "bin_end": 2.8,
            "count": 0
           },
           {
            "bin_start": 2.8,
            "bin_end": 3,
            "count": 1
           }
          ]
         }
        },
        {
         "name": "NumWebPurchases",
         "dtype": "int64",
         "stats": {
          "unique_count": 2,
          "nan_count": 0,
          "min": "1",
          "max": "8",
          "histogram": [
           {
            "bin_start": 1,
            "bin_end": 1.7,
            "count": 1
           },
           {
            "bin_start": 1.7,
            "bin_end": 2.4,
            "count": 0
           },
           {
            "bin_start": 2.4,
            "bin_end": 3.0999999999999996,
            "count": 0
           },
           {
            "bin_start": 3.0999999999999996,
            "bin_end": 3.8,
            "count": 0
           },
           {
            "bin_start": 3.8,
            "bin_end": 4.5,
            "count": 0
           },
           {
            "bin_start": 4.5,
            "bin_end": 5.199999999999999,
            "count": 0
           },
           {
            "bin_start": 5.199999999999999,
            "bin_end": 5.8999999999999995,
            "count": 0
           },
           {
            "bin_start": 5.8999999999999995,
            "bin_end": 6.6,
            "count": 0
           },
           {
            "bin_start": 6.6,
            "bin_end": 7.3,
            "count": 0
           },
           {
            "bin_start": 7.3,
            "bin_end": 8,
            "count": 2
           }
          ]
         }
        },
        {
         "name": "NumCatalogPurchases",
         "dtype": "int64",
         "stats": {
          "unique_count": 3,
          "nan_count": 0,
          "min": "1",
          "max": "10",
          "histogram": [
           {
            "bin_start": 1,
            "bin_end": 1.9,
            "count": 1
           },
           {
            "bin_start": 1.9,
            "bin_end": 2.8,
            "count": 1
           },
           {
            "bin_start": 2.8,
            "bin_end": 3.7,
            "count": 0
           },
           {
            "bin_start": 3.7,
            "bin_end": 4.6,
            "count": 0
           },
           {
            "bin_start": 4.6,
            "bin_end": 5.5,
            "count": 0
           },
           {
            "bin_start": 5.5,
            "bin_end": 6.4,
            "count": 0
           },
           {
            "bin_start": 6.4,
            "bin_end": 7.3,
            "count": 0
           },
           {
            "bin_start": 7.3,
            "bin_end": 8.2,
            "count": 0
           },
           {
            "bin_start": 8.2,
            "bin_end": 9.1,
            "count": 0
           },
           {
            "bin_start": 9.1,
            "bin_end": 10,
            "count": 1
           }
          ]
         }
        },
        {
         "name": "NumStorePurchases",
         "dtype": "int64",
         "stats": {
          "unique_count": 3,
          "nan_count": 0,
          "min": "2",
          "max": "10",
          "histogram": [
           {
            "bin_start": 2,
            "bin_end": 2.8,
            "count": 1
           },
           {
            "bin_start": 2.8,
            "bin_end": 3.6,
            "count": 0
           },
           {
            "bin_start": 3.6,
            "bin_end": 4.4,
            "count": 1
           },
           {
            "bin_start": 4.4,
            "bin_end": 5.2,
            "count": 0
           },
           {
            "bin_start": 5.2,
            "bin_end": 6,
            "count": 0
           },
           {
            "bin_start": 6,
            "bin_end": 6.800000000000001,
            "count": 0
           },
           {
            "bin_start": 6.800000000000001,
            "bin_end": 7.6000000000000005,
            "count": 0
           },
           {
            "bin_start": 7.6000000000000005,
            "bin_end": 8.4,
            "count": 0
           },
           {
            "bin_start": 8.4,
            "bin_end": 9.2,
            "count": 0
           },
           {
            "bin_start": 9.2,
            "bin_end": 10,
            "count": 1
           }
          ]
         }
        },
        {
         "name": "NumWebVisitsMonth",
         "dtype": "int64",
         "stats": {
          "unique_count": 3,
          "nan_count": 0,
          "min": "4",
          "max": "7",
          "histogram": [
           {
            "bin_start": 4,
            "bin_end": 4.3,
            "count": 1
           },
           {
            "bin_start": 4.3,
            "bin_end": 4.6,
            "count": 0
           },
           {
            "bin_start": 4.6,
            "bin_end": 4.9,
            "count": 0
           },
           {
            "bin_start": 4.9,
            "bin_end": 5.2,
            "count": 1
           },
           {
            "bin_start": 5.2,
            "bin_end": 5.5,
            "count": 0
           },
           {
            "bin_start": 5.5,
            "bin_end": 5.8,
            "count": 0
           },
           {
            "bin_start": 5.8,
            "bin_end": 6.1,
            "count": 0
           },
           {
            "bin_start": 6.1,
            "bin_end": 6.4,
            "count": 0
           },
           {
            "bin_start": 6.4,
            "bin_end": 6.699999999999999,
            "count": 0
           },
           {
            "bin_start": 6.699999999999999,
            "bin_end": 7,
            "count": 1
           }
          ]
         }
        },
        {
         "name": "AcceptedCmp3",
         "dtype": "int64",
         "stats": {
          "unique_count": 1,
          "nan_count": 0,
          "min": "0",
          "max": "0",
          "histogram": [
           {
            "bin_start": -0.5,
            "bin_end": -0.4,
            "count": 0
           },
           {
            "bin_start": -0.4,
            "bin_end": -0.3,
            "count": 0
           },
           {
            "bin_start": -0.3,
            "bin_end": -0.19999999999999996,
            "count": 0
           },
           {
            "bin_start": -0.19999999999999996,
            "bin_end": -0.09999999999999998,
            "count": 0
           },
           {
            "bin_start": -0.09999999999999998,
            "bin_end": 0,
            "count": 0
           },
           {
            "bin_start": 0,
            "bin_end": 0.10000000000000009,
            "count": 3
           },
           {
            "bin_start": 0.10000000000000009,
            "bin_end": 0.20000000000000007,
            "count": 0
           },
           {
            "bin_start": 0.20000000000000007,
            "bin_end": 0.30000000000000004,
            "count": 0
           },
           {
            "bin_start": 0.30000000000000004,
            "bin_end": 0.4,
            "count": 0
           },
           {
            "bin_start": 0.4,
            "bin_end": 0.5,
            "count": 0
           }
          ]
         }
        },
        {
         "name": "AcceptedCmp4",
         "dtype": "int64",
         "stats": {
          "unique_count": 1,
          "nan_count": 0,
          "min": "0",
          "max": "0",
          "histogram": [
           {
            "bin_start": -0.5,
            "bin_end": -0.4,
            "count": 0
           },
           {
            "bin_start": -0.4,
            "bin_end": -0.3,
            "count": 0
           },
           {
            "bin_start": -0.3,
            "bin_end": -0.19999999999999996,
            "count": 0
           },
           {
            "bin_start": -0.19999999999999996,
            "bin_end": -0.09999999999999998,
            "count": 0
           },
           {
            "bin_start": -0.09999999999999998,
            "bin_end": 0,
            "count": 0
           },
           {
            "bin_start": 0,
            "bin_end": 0.10000000000000009,
            "count": 3
           },
           {
            "bin_start": 0.10000000000000009,
            "bin_end": 0.20000000000000007,
            "count": 0
           },
           {
            "bin_start": 0.20000000000000007,
            "bin_end": 0.30000000000000004,
            "count": 0
           },
           {
            "bin_start": 0.30000000000000004,
            "bin_end": 0.4,
            "count": 0
           },
           {
            "bin_start": 0.4,
            "bin_end": 0.5,
            "count": 0
           }
          ]
         }
        },
        {
         "name": "AcceptedCmp5",
         "dtype": "int64",
         "stats": {
          "unique_count": 1,
          "nan_count": 0,
          "min": "0",
          "max": "0",
          "histogram": [
           {
            "bin_start": -0.5,
            "bin_end": -0.4,
            "count": 0
           },
           {
            "bin_start": -0.4,
            "bin_end": -0.3,
            "count": 0
           },
           {
            "bin_start": -0.3,
            "bin_end": -0.19999999999999996,
            "count": 0
           },
           {
            "bin_start": -0.19999999999999996,
            "bin_end": -0.09999999999999998,
            "count": 0
           },
           {
            "bin_start": -0.09999999999999998,
            "bin_end": 0,
            "count": 0
           },
           {
            "bin_start": 0,
            "bin_end": 0.10000000000000009,
            "count": 3
           },
           {
            "bin_start": 0.10000000000000009,
            "bin_end": 0.20000000000000007,
            "count": 0
           },
           {
            "bin_start": 0.20000000000000007,
            "bin_end": 0.30000000000000004,
            "count": 0
           },
           {
            "bin_start": 0.30000000000000004,
            "bin_end": 0.4,
            "count": 0
           },
           {
            "bin_start": 0.4,
            "bin_end": 0.5,
            "count": 0
           }
          ]
         }
        },
        {
         "name": "AcceptedCmp1",
         "dtype": "int64",
         "stats": {
          "unique_count": 1,
          "nan_count": 0,
          "min": "0",
          "max": "0",
          "histogram": [
           {
            "bin_start": -0.5,
            "bin_end": -0.4,
            "count": 0
           },
           {
            "bin_start": -0.4,
            "bin_end": -0.3,
            "count": 0
           },
           {
            "bin_start": -0.3,
            "bin_end": -0.19999999999999996,
            "count": 0
           },
           {
            "bin_start": -0.19999999999999996,
            "bin_end": -0.09999999999999998,
            "count": 0
           },
           {
            "bin_start": -0.09999999999999998,
            "bin_end": 0,
            "count": 0
           },
           {
            "bin_start": 0,
            "bin_end": 0.10000000000000009,
            "count": 3
           },
           {
            "bin_start": 0.10000000000000009,
            "bin_end": 0.20000000000000007,
            "count": 0
           },
           {
            "bin_start": 0.20000000000000007,
            "bin_end": 0.30000000000000004,
            "count": 0
           },
           {
            "bin_start": 0.30000000000000004,
            "bin_end": 0.4,
            "count": 0
           },
           {
            "bin_start": 0.4,
            "bin_end": 0.5,
            "count": 0
           }
          ]
         }
        },
        {
         "name": "AcceptedCmp2",
         "dtype": "int64",
         "stats": {
          "unique_count": 1,
          "nan_count": 0,
          "min": "0",
          "max": "0",
          "histogram": [
           {
            "bin_start": -0.5,
            "bin_end": -0.4,
            "count": 0
           },
           {
            "bin_start": -0.4,
            "bin_end": -0.3,
            "count": 0
           },
           {
            "bin_start": -0.3,
            "bin_end": -0.19999999999999996,
            "count": 0
           },
           {
            "bin_start": -0.19999999999999996,
            "bin_end": -0.09999999999999998,
            "count": 0
           },
           {
            "bin_start": -0.09999999999999998,
            "bin_end": 0,
            "count": 0
           },
           {
            "bin_start": 0,
            "bin_end": 0.10000000000000009,
            "count": 3
           },
           {
            "bin_start": 0.10000000000000009,
            "bin_end": 0.20000000000000007,
            "count": 0
           },
           {
            "bin_start": 0.20000000000000007,
            "bin_end": 0.30000000000000004,
            "count": 0
           },
           {
            "bin_start": 0.30000000000000004,
            "bin_end": 0.4,
            "count": 0
           },
           {
            "bin_start": 0.4,
            "bin_end": 0.5,
            "count": 0
           }
          ]
         }
        },
        {
         "name": "Complain",
         "dtype": "int64",
         "stats": {
          "unique_count": 1,
          "nan_count": 0,
          "min": "0",
          "max": "0",
          "histogram": [
           {
            "bin_start": -0.5,
            "bin_end": -0.4,
            "count": 0
           },
           {
            "bin_start": -0.4,
            "bin_end": -0.3,
            "count": 0
           },
           {
            "bin_start": -0.3,
            "bin_end": -0.19999999999999996,
            "count": 0
           },
           {
            "bin_start": -0.19999999999999996,
            "bin_end": -0.09999999999999998,
            "count": 0
           },
           {
            "bin_start": -0.09999999999999998,
            "bin_end": 0,
            "count": 0
           },
           {
            "bin_start": 0,
            "bin_end": 0.10000000000000009,
            "count": 3
           },
           {
            "bin_start": 0.10000000000000009,
            "bin_end": 0.20000000000000007,
            "count": 0
           },
           {
            "bin_start": 0.20000000000000007,
            "bin_end": 0.30000000000000004,
            "count": 0
           },
           {
            "bin_start": 0.30000000000000004,
            "bin_end": 0.4,
            "count": 0
           },
           {
            "bin_start": 0.4,
            "bin_end": 0.5,
            "count": 0
           }
          ]
         }
        },
        {
         "name": "Z_CostContact",
         "dtype": "int64",
         "stats": {
          "unique_count": 1,
          "nan_count": 0,
          "min": "3",
          "max": "3",
          "histogram": [
           {
            "bin_start": 2.5,
            "bin_end": 2.6,
            "count": 0
           },
           {
            "bin_start": 2.6,
            "bin_end": 2.7,
            "count": 0
           },
           {
            "bin_start": 2.7,
            "bin_end": 2.8,
            "count": 0
           },
           {
            "bin_start": 2.8,
            "bin_end": 2.9,
            "count": 0
           },
           {
            "bin_start": 2.9,
            "bin_end": 3,
            "count": 0
           },
           {
            "bin_start": 3,
            "bin_end": 3.1,
            "count": 3
           },
           {
            "bin_start": 3.1,
            "bin_end": 3.2,
            "count": 0
           },
           {
            "bin_start": 3.2,
            "bin_end": 3.3,
            "count": 0
           },
           {
            "bin_start": 3.3,
            "bin_end": 3.4,
            "count": 0
           },
           {
            "bin_start": 3.4,
            "bin_end": 3.5,
            "count": 0
           }
          ]
         }
        },
        {
         "name": "Z_Revenue",
         "dtype": "int64",
         "stats": {
          "unique_count": 1,
          "nan_count": 0,
          "min": "11",
          "max": "11",
          "histogram": [
           {
            "bin_start": 10.5,
            "bin_end": 10.6,
            "count": 0
           },
           {
            "bin_start": 10.6,
            "bin_end": 10.7,
            "count": 0
           },
           {
            "bin_start": 10.7,
            "bin_end": 10.8,
            "count": 0
           },
           {
            "bin_start": 10.8,
            "bin_end": 10.9,
            "count": 0
           },
           {
            "bin_start": 10.9,
            "bin_end": 11,
            "count": 0
           },
           {
            "bin_start": 11,
            "bin_end": 11.1,
            "count": 3
           },
           {
            "bin_start": 11.1,
            "bin_end": 11.2,
            "count": 0
           },
           {
            "bin_start": 11.2,
            "bin_end": 11.3,
            "count": 0
           },
           {
            "bin_start": 11.3,
            "bin_end": 11.4,
            "count": 0
           },
           {
            "bin_start": 11.4,
            "bin_end": 11.5,
            "count": 0
           }
          ]
         }
        },
        {
         "name": "Response",
         "dtype": "int64",
         "stats": {
          "unique_count": 2,
          "nan_count": 0,
          "min": "0",
          "max": "1",
          "histogram": [
           {
            "bin_start": 0,
            "bin_end": 0.1,
            "count": 2
           },
           {
            "bin_start": 0.1,
            "bin_end": 0.2,
            "count": 0
           },
           {
            "bin_start": 0.2,
            "bin_end": 0.30000000000000004,
            "count": 0
           },
           {
            "bin_start": 0.30000000000000004,
            "bin_end": 0.4,
            "count": 0
           },
           {
            "bin_start": 0.4,
            "bin_end": 0.5,
            "count": 0
           },
           {
            "bin_start": 0.5,
            "bin_end": 0.6000000000000001,
            "count": 0
           },
           {
            "bin_start": 0.6000000000000001,
            "bin_end": 0.7000000000000001,
            "count": 0
           },
           {
            "bin_start": 0.7000000000000001,
            "bin_end": 0.8,
            "count": 0
           },
           {
            "bin_start": 0.8,
            "bin_end": 0.9,
            "count": 0
           },
           {
            "bin_start": 0.9,
            "bin_end": 1,
            "count": 1
           }
          ]
         }
        },
        {
         "name": "_deepnote_index_column",
         "dtype": "int64"
        }
       ],
       "rows": [
        {
         "ID": 5524,
         "Year_Birth": 1957,
         "Education": "Graduation",
         "Marital_Status": "Single",
         "Income": 58138,
         "Kidhome": 0,
         "Teenhome": 0,
         "Dt_Customer": "04-09-2012",
         "Recency": 58,
         "MntWines": 635,
         "MntFruits": 88,
         "MntMeatProducts": 546,
         "MntFishProducts": 172,
         "MntSweetProducts": 88,
         "MntGoldProds": 88,
         "NumDealsPurchases": 3,
         "NumWebPurchases": 8,
         "NumCatalogPurchases": 10,
         "NumStorePurchases": 4,
         "NumWebVisitsMonth": 7,
         "AcceptedCmp3": 0,
         "AcceptedCmp4": 0,
         "AcceptedCmp5": 0,
         "AcceptedCmp1": 0,
         "AcceptedCmp2": 0,
         "Complain": 0,
         "Z_CostContact": 3,
         "Z_Revenue": 11,
         "Response": 1,
         "_deepnote_index_column": 0
        },
        {
         "ID": 2174,
         "Year_Birth": 1954,
         "Education": "Graduation",
         "Marital_Status": "Single",
         "Income": 46344,
         "Kidhome": 1,
         "Teenhome": 1,
         "Dt_Customer": "08-03-2014",
         "Recency": 38,
         "MntWines": 11,
         "MntFruits": 1,
         "MntMeatProducts": 6,
         "MntFishProducts": 2,
         "MntSweetProducts": 1,
         "MntGoldProds": 6,
         "NumDealsPurchases": 2,
         "NumWebPurchases": 1,
         "NumCatalogPurchases": 1,
         "NumStorePurchases": 2,
         "NumWebVisitsMonth": 5,
         "AcceptedCmp3": 0,
         "AcceptedCmp4": 0,
         "AcceptedCmp5": 0,
         "AcceptedCmp1": 0,
         "AcceptedCmp2": 0,
         "Complain": 0,
         "Z_CostContact": 3,
         "Z_Revenue": 11,
         "Response": 0,
         "_deepnote_index_column": 1
        },
        {
         "ID": 4141,
         "Year_Birth": 1965,
         "Education": "Graduation",
         "Marital_Status": "Together",
         "Income": 71613,
         "Kidhome": 0,
         "Teenhome": 0,
         "Dt_Customer": "21-08-2013",
         "Recency": 26,
         "MntWines": 426,
         "MntFruits": 49,
         "MntMeatProducts": 127,
         "MntFishProducts": 111,
         "MntSweetProducts": 21,
         "MntGoldProds": 42,
         "NumDealsPurchases": 1,
         "NumWebPurchases": 8,
         "NumCatalogPurchases": 2,
         "NumStorePurchases": 10,
         "NumWebVisitsMonth": 4,
         "AcceptedCmp3": 0,
         "AcceptedCmp4": 0,
         "AcceptedCmp5": 0,
         "AcceptedCmp1": 0,
         "AcceptedCmp2": 0,
         "Complain": 0,
         "Z_CostContact": 3,
         "Z_Revenue": 11,
         "Response": 0,
         "_deepnote_index_column": 2
        }
       ]
      },
      "text/plain": "     ID  Year_Birth   Education Marital_Status   Income  Kidhome  Teenhome  \\\n0  5524        1957  Graduation         Single  58138.0        0         0   \n1  2174        1954  Graduation         Single  46344.0        1         1   \n2  4141        1965  Graduation       Together  71613.0        0         0   \n\n  Dt_Customer  Recency  MntWines  ...  NumWebVisitsMonth  AcceptedCmp3  \\\n0  04-09-2012       58       635  ...                  7             0   \n1  08-03-2014       38        11  ...                  5             0   \n2  21-08-2013       26       426  ...                  4             0   \n\n   AcceptedCmp4  AcceptedCmp5  AcceptedCmp1  AcceptedCmp2  Complain  \\\n0             0             0             0             0         0   \n1             0             0             0             0         0   \n2             0             0             0             0         0   \n\n   Z_CostContact  Z_Revenue  Response  \n0              3         11         1  \n1              3         11         0  \n2              3         11         0  \n\n[3 rows x 29 columns]",
      "text/html": "<div>\n<style scoped>\n    .dataframe tbody tr th:only-of-type {\n        vertical-align: middle;\n    }\n\n    .dataframe tbody tr th {\n        vertical-align: top;\n    }\n\n    .dataframe thead th {\n        text-align: right;\n    }\n</style>\n<table border=\"1\" class=\"dataframe\">\n  <thead>\n    <tr style=\"text-align: right;\">\n      <th></th>\n      <th>ID</th>\n      <th>Year_Birth</th>\n      <th>Education</th>\n      <th>Marital_Status</th>\n      <th>Income</th>\n      <th>Kidhome</th>\n      <th>Teenhome</th>\n      <th>Dt_Customer</th>\n      <th>Recency</th>\n      <th>MntWines</th>\n      <th>...</th>\n      <th>NumWebVisitsMonth</th>\n      <th>AcceptedCmp3</th>\n      <th>AcceptedCmp4</th>\n      <th>AcceptedCmp5</th>\n      <th>AcceptedCmp1</th>\n      <th>AcceptedCmp2</th>\n      <th>Complain</th>\n      <th>Z_CostContact</th>\n      <th>Z_Revenue</th>\n      <th>Response</th>\n    </tr>\n  </thead>\n  <tbody>\n    <tr>\n      <th>0</th>\n      <td>5524</td>\n      <td>1957</td>\n      <td>Graduation</td>\n      <td>Single</td>\n      <td>58138.0</td>\n      <td>0</td>\n      <td>0</td>\n      <td>04-09-2012</td>\n      <td>58</td>\n      <td>635</td>\n      <td>...</td>\n      <td>7</td>\n      <td>0</td>\n      <td>0</td>\n      <td>0</td>\n      <td>0</td>\n      <td>0</td>\n      <td>0</td>\n      <td>3</td>\n      <td>11</td>\n      <td>1</td>\n    </tr>\n    <tr>\n      <th>1</th>\n      <td>2174</td>\n      <td>1954</td>\n      <td>Graduation</td>\n      <td>Single</td>\n      <td>46344.0</td>\n      <td>1</td>\n      <td>1</td>\n      <td>08-03-2014</td>\n      <td>38</td>\n      <td>11</td>\n      <td>...</td>\n      <td>5</td>\n      <td>0</td>\n      <td>0</td>\n      <td>0</td>\n      <td>0</td>\n      <td>0</td>\n      <td>0</td>\n      <td>3</td>\n      <td>11</td>\n      <td>0</td>\n    </tr>\n    <tr>\n      <th>2</th>\n      <td>4141</td>\n      <td>1965</td>\n      <td>Graduation</td>\n      <td>Together</td>\n      <td>71613.0</td>\n      <td>0</td>\n      <td>0</td>\n      <td>21-08-2013</td>\n      <td>26</td>\n      <td>426</td>\n      <td>...</td>\n      <td>4</td>\n      <td>0</td>\n      <td>0</td>\n      <td>0</td>\n      <td>0</td>\n      <td>0</td>\n      <td>0</td>\n      <td>3</td>\n      <td>11</td>\n      <td>0</td>\n    </tr>\n  </tbody>\n</table>\n<p>3 rows × 29 columns</p>\n</div>"
     },
     "metadata": {}
    }
   ]
  },
  {
   "cell_type": "markdown",
   "source": "### CONTENIDO\n\nLas tablas de datos suelen ir acompañadas de un diccionario de datos que explica el contenido de la información contenida en una de las columnas y, en ocasiones, proporciona algún contexto empresarial. \n\n#### Gente\n\n- ID: identificador único del cliente\n- Year_Birth: año de nacimiento del cliente\n- Educación: nivel de educación del cliente\n- Marital_Status: estado civil del cliente\n- Ingresos: ingresos familiares anuales del cliente\n- Kidhome: Número de niños en el hogar del cliente\n- Teenhome: Número de adolescentes en el hogar del cliente\n- Dt_Cliente: Fecha de alta del cliente en la empresa\n- Actualidad: Número de días desde la última compra del cliente\n- Queja: 1 si el cliente se quejó en los últimos 2 años, 0 en caso contrario\n\n#### Productos\n\n- MntWines: Cantidad gastada en vino en los últimos 2 años\n- MntFruits: Cantidad gastada en frutas en los últimos 2 años\n- MntMeatProducts: cantidad gastada en carne en los últimos 2 años\n- MntFishProducts: cantidad gastada en pescado en los últimos 2 años\n- MntSweetProducts: cantidad gastada en dulces en los últimos 2 años\n- MntGoldProds: cantidad gastada en oro en los últimos 2 años\n\n\n#### Promoción\n\n- NumDealsPurchases: Número de compras realizadas con descuento\n- AcceptedCmp1: 1 si el cliente aceptó la oferta en la 1ª campaña, 0 en caso contrario\n- AcceptedCmp2: 1 si el cliente aceptó la oferta en la 2ª campaña, 0 en caso contrario\n- AcceptedCmp3: 1 si el cliente aceptó la oferta en la 3ra campaña, 0 en caso contrario\n- AcceptedCmp4: 1 si el cliente aceptó la oferta en la 4ª campaña, 0 en caso contrario\n- AcceptedCmp5: 1 si el cliente aceptó la oferta en la 5ª campaña, 0 en caso contrario\n- Respuesta: 1 si el cliente aceptó la oferta en la última campaña, 0 en caso contrario\n\n\n#### Lugar\n\n- NumWebPurchases: Número de compras realizadas a través del sitio web de la empresa\n- NumCatalogPurchases: Número de compras realizadas utilizando un catálogo\n- NumStorePurchases: Número de compras realizadas directamente en tiendas\n- NumWebVisitsMonth: Número de visitas al sitio web de la empresa en el último mes \n",
   "metadata": {
    "cell_id": "5cfbc1f8-8deb-4f11-b5e5-ed43916182dc",
    "tags": [],
    "deepnote_cell_type": "markdown"
   }
  },
  {
   "cell_type": "markdown",
   "source": "## Análisis Exploratorio de Datos (EDA)\n\nUna vez los datos se encuentran cargados debemos poder comprender los datos con los que estamos trabajando antes de que podamos comenzar a trabajar en ellos.",
   "metadata": {
    "cell_id": "9b382d4e-166e-4cb1-8137-29fa592b1905",
    "tags": [],
    "deepnote_cell_type": "markdown"
   }
  },
  {
   "cell_type": "markdown",
   "source": " En python es posible utilizar los atributos de los DataFrames para poder tener una visión general de los datos almacenados.",
   "metadata": {
    "cell_id": "f59663a7-3b09-4acd-971f-a276b14d4497",
    "tags": [],
    "deepnote_cell_type": "markdown"
   }
  },
  {
   "cell_type": "code",
   "metadata": {
    "cell_id": "1de625c2-e45f-4829-bbbe-e3ecb7788ad1",
    "tags": [],
    "deepnote_to_be_reexecuted": false,
    "source_hash": "b936067a",
    "execution_start": 1646138789862,
    "execution_millis": 46,
    "deepnote_cell_type": "code"
   },
   "source": "df_customers.info()",
   "execution_count": null,
   "outputs": [
    {
     "name": "stdout",
     "text": "<class 'pandas.core.frame.DataFrame'>\nRangeIndex: 2240 entries, 0 to 2239\nData columns (total 29 columns):\n #   Column               Non-Null Count  Dtype  \n---  ------               --------------  -----  \n 0   ID                   2240 non-null   int64  \n 1   Year_Birth           2240 non-null   int64  \n 2   Education            2240 non-null   object \n 3   Marital_Status       2240 non-null   object \n 4   Income               2216 non-null   float64\n 5   Kidhome              2240 non-null   int64  \n 6   Teenhome             2240 non-null   int64  \n 7   Dt_Customer          2240 non-null   object \n 8   Recency              2240 non-null   int64  \n 9   MntWines             2240 non-null   int64  \n 10  MntFruits            2240 non-null   int64  \n 11  MntMeatProducts      2240 non-null   int64  \n 12  MntFishProducts      2240 non-null   int64  \n 13  MntSweetProducts     2240 non-null   int64  \n 14  MntGoldProds         2240 non-null   int64  \n 15  NumDealsPurchases    2240 non-null   int64  \n 16  NumWebPurchases      2240 non-null   int64  \n 17  NumCatalogPurchases  2240 non-null   int64  \n 18  NumStorePurchases    2240 non-null   int64  \n 19  NumWebVisitsMonth    2240 non-null   int64  \n 20  AcceptedCmp3         2240 non-null   int64  \n 21  AcceptedCmp4         2240 non-null   int64  \n 22  AcceptedCmp5         2240 non-null   int64  \n 23  AcceptedCmp1         2240 non-null   int64  \n 24  AcceptedCmp2         2240 non-null   int64  \n 25  Complain             2240 non-null   int64  \n 26  Z_CostContact        2240 non-null   int64  \n 27  Z_Revenue            2240 non-null   int64  \n 28  Response             2240 non-null   int64  \ndtypes: float64(1), int64(25), object(3)\nmemory usage: 507.6+ KB\n",
     "output_type": "stream"
    }
   ]
  },
  {
   "cell_type": "markdown",
   "source": "### Ejemplo 1\n\nTambién podemos realizar gráficas para observar los datos. En este caso, podemos revisar la información obtenida en la columna `YearBirth` (Año de nacimiento)",
   "metadata": {
    "cell_id": "0a96b260-5a3a-43dc-9fb2-faab0498f337",
    "tags": [],
    "deepnote_cell_type": "markdown"
   }
  },
  {
   "cell_type": "code",
   "metadata": {
    "cell_id": "c3adae1e-2087-4c79-a5aa-3e39cdd09e34",
    "tags": [],
    "deepnote_to_be_reexecuted": false,
    "source_hash": "52916448",
    "execution_start": 1646138789914,
    "execution_millis": 660,
    "deepnote_cell_type": "code"
   },
   "source": "sns.histplot(df_customers['Year_Birth'])",
   "execution_count": null,
   "outputs": [
    {
     "output_type": "execute_result",
     "execution_count": 4,
     "data": {
      "text/plain": "<AxesSubplot:xlabel='Year_Birth', ylabel='Count'>"
     },
     "metadata": {}
    },
    {
     "data": {
      "text/plain": "<Figure size 432x288 with 1 Axes>",
      "image/png": "[encoded data removed]"
     },
     "metadata": {
      "needs_background": "light",
      "image/png": {
       "width": 398,
       "height": 263
      }
     },
     "output_type": "display_data"
    }
   ]
  },
  {
   "cell_type": "markdown",
   "source": "Podemos observar para la columna `YearBirth` (Año de nacimiento):\n- Los datos son numéricos y continuos\n- Existen datos atípicos. Probablemente resultante de algún error anterior\n\nEsto nos permite afirmar que:\n- Aproximadamente nuestros clientes tienen entre 80 y 24 años.\n- Aproximadamente nuestros clientes tienen en promedio 52 años. \n\nPor lo tanto nuestras estrategias de ventas, promoción y servicio deberán estar enfocadas hacia ese sector de la población",
   "metadata": {
    "cell_id": "2f457e4f-9e14-4a7e-a9ba-aaee2024b8a8",
    "tags": [],
    "deepnote_cell_type": "markdown"
   }
  },
  {
   "cell_type": "markdown",
   "source": "### Ejemplo 2\n\nPodemos obtener diferentes medidas de agrupamiento para la información obtenida en cada columna",
   "metadata": {
    "cell_id": "b381d4af-d229-4004-9737-30ed1a5cc507",
    "tags": [],
    "deepnote_cell_type": "markdown"
   }
  },
  {
   "cell_type": "code",
   "metadata": {
    "cell_id": "2bb8d8ad-84ab-47b4-886a-c74930d85a63",
    "tags": [],
    "deepnote_to_be_reexecuted": false,
    "source_hash": "797a0fbd",
    "execution_start": 1646138790597,
    "execution_millis": 15,
    "deepnote_cell_type": "code"
   },
   "source": "df_customers['Year_Birth'].describe()",
   "execution_count": null,
   "outputs": [
    {
     "output_type": "execute_result",
     "execution_count": 5,
     "data": {
      "text/plain": "count    2240.000000\nmean     1968.805804\nstd        11.984069\nmin      1893.000000\n25%      1959.000000\n50%      1970.000000\n75%      1977.000000\nmax      1996.000000\nName: Year_Birth, dtype: float64"
     },
     "metadata": {}
    }
   ]
  },
  {
   "cell_type": "code",
   "metadata": {
    "cell_id": "84de3cff-8e65-454a-8cc9-c2a5fcb33552",
    "tags": [],
    "deepnote_to_be_reexecuted": false,
    "source_hash": "434e47ab",
    "execution_start": 1646138790598,
    "execution_millis": 27,
    "deepnote_cell_type": "code"
   },
   "source": "print('Mínimo: ', df_customers['Year_Birth'].min())\nprint('Máximo: ', df_customers['Year_Birth'].max())\nprint('Promedio: ', df_customers['Year_Birth'].mean())\nprint('Mediana: ', df_customers['Year_Birth'].median())\nprint('Moda: ', df_customers['Year_Birth'].mode().values)",
   "execution_count": null,
   "outputs": [
    {
     "name": "stdout",
     "text": "Mínimo:  1893\nMáximo:  1996\nPromedio:  1968.8058035714287\nMediana:  1970.0\nModa:  [1976]\n",
     "output_type": "stream"
    }
   ]
  },
  {
   "cell_type": "markdown",
   "source": "### Ejemplo 3\n\nTambién podemos revisar la información obtenida en la columna `Kidhome` (Niños en casa)",
   "metadata": {
    "cell_id": "eed915da-8a89-4032-9672-82c48b22010d",
    "tags": [],
    "deepnote_cell_type": "markdown"
   }
  },
  {
   "cell_type": "code",
   "metadata": {
    "cell_id": "85a0e643-6461-4087-8070-7282148ca128",
    "tags": [],
    "deepnote_to_be_reexecuted": false,
    "source_hash": "7cbdbe09",
    "execution_start": 1646138790625,
    "execution_millis": 371,
    "deepnote_cell_type": "code"
   },
   "source": "sns.histplot(df_customers['Kidhome'])",
   "execution_count": null,
   "outputs": [
    {
     "output_type": "execute_result",
     "execution_count": 7,
     "data": {
      "text/plain": "<AxesSubplot:xlabel='Kidhome', ylabel='Count'>"
     },
     "metadata": {}
    },
    {
     "data": {
      "text/plain": "<Figure size 432x288 with 1 Axes>",
      "image/png": "[encoded data removed]"
     },
     "metadata": {
      "needs_background": "light",
      "image/png": {
       "width": 395,
       "height": 262
      }
     },
     "output_type": "display_data"
    }
   ]
  },
  {
   "cell_type": "code",
   "metadata": {
    "cell_id": "6d780a30-0881-4533-a1e1-9ef84d592e15",
    "tags": [],
    "deepnote_to_be_reexecuted": false,
    "source_hash": "ce28c04e",
    "execution_start": 1646138791007,
    "execution_millis": 10,
    "deepnote_cell_type": "code"
   },
   "source": "df_customers['Kidhome'].describe()",
   "execution_count": null,
   "outputs": [
    {
     "output_type": "execute_result",
     "execution_count": 8,
     "data": {
      "text/plain": "count    2240.000000\nmean        0.444196\nstd         0.538398\nmin         0.000000\n25%         0.000000\n50%         0.000000\n75%         1.000000\nmax         2.000000\nName: Kidhome, dtype: float64"
     },
     "metadata": {}
    }
   ]
  },
  {
   "cell_type": "markdown",
   "source": "Podemos observar para la columna `Kidhome` (Niños en casa):\n- Los datos son categóricos discretos\n\nEsto nos permite afirmar que:\n- Nuestros clientes tienen entre 0 y 2 hijos\n- Nuestros clientes tienen en promedio 0.44 hijos.\n- La mayor parte de nuestos clientes no tienen hijos.  \n\nPor lo tanto nuestras estrategias de ventas, promoción y servicio deberán estar enfocadas hacia ese sector de la población",
   "metadata": {
    "cell_id": "cd172e65-5658-40a1-b307-6480463aec6a",
    "tags": [],
    "deepnote_cell_type": "markdown"
   }
  },
  {
   "cell_type": "markdown",
   "source": "### Ejemplo 4\n\nExplorar similaridades entre los ingresos (`Income`) de mis clientes diferenciados por el estado civil",
   "metadata": {
    "cell_id": "e0567dd7-abaa-4bbe-838b-687f6a7d1e1f",
    "tags": [],
    "deepnote_cell_type": "markdown"
   }
  },
  {
   "cell_type": "code",
   "metadata": {
    "cell_id": "f96b45d1-6ff6-4b5b-8ff0-04f93956fbd4",
    "tags": [],
    "deepnote_to_be_reexecuted": false,
    "source_hash": "656dfde9",
    "execution_start": 1646138907646,
    "execution_millis": 367,
    "deepnote_cell_type": "code"
   },
   "source": "sns.boxplot(x='Marital_Status',y='Income',data=df_customers)\nplt.ylim(0,200000);",
   "execution_count": null,
   "outputs": [
    {
     "data": {
      "text/plain": "<Figure size 432x288 with 1 Axes>",
      "image/png": "[encoded data removed]"
     },
     "metadata": {
      "needs_background": "light",
      "image/png": {
       "width": 408,
       "height": 267
      }
     },
     "output_type": "display_data"
    }
   ]
  },
  {
   "cell_type": "markdown",
   "source": "Podemos ver que, con excepción de viudo, no parece existir una diferencia importante entre los diferentes estados civiles. Los estados tales como \"Alone\", \"Absurd\" y \"YOLO\" no son relevantes en la situación de negocio y no poseen los sificientes datos para ser tenidos en cuenta. Eventualmente deberán ser removidos.",
   "metadata": {
    "cell_id": "a2b2a378-e7e2-4ed6-9df2-fc64cc685777",
    "tags": [],
    "deepnote_cell_type": "markdown"
   }
  },
  {
   "cell_type": "markdown",
   "source": "### Ejercicio 1\n\n¿Qué información adicional podemos obtener sobre las siguientes columnas?\n- Education\n- Marital_Status\n- Income\n- Response\n",
   "metadata": {
    "cell_id": "49acbafc-3484-4029-beba-47bc5b38c6ad",
    "tags": [],
    "deepnote_cell_type": "markdown"
   }
  },
  {
   "cell_type": "markdown",
   "source": "**Respuesta**",
   "metadata": {
    "cell_id": "8965dfb7-d152-44b9-91b0-6e1a0af38ce2",
    "tags": [],
    "deepnote_cell_type": "markdown"
   }
  },
  {
   "cell_type": "markdown",
   "source": "",
   "metadata": {
    "cell_id": "9369d150-23a8-49d3-ba4e-317f1ec5d84f",
    "tags": [],
    "deepnote_cell_type": "markdown"
   }
  },
  {
   "cell_type": "markdown",
   "source": "### Ejemplo 5\n\nObtener el promedio de compras realizadas en descuento (`NumDealsPurchases`) para los clientes con diferente cantidad de hijos (`Kidhome`).",
   "metadata": {
    "cell_id": "bfd53433-3abd-4152-a789-c3a389c6f1d5",
    "tags": [],
    "deepnote_cell_type": "markdown"
   }
  },
  {
   "cell_type": "code",
   "metadata": {
    "cell_id": "466be593-59e5-4efe-a18a-de3dc8428813",
    "tags": [],
    "deepnote_to_be_reexecuted": false,
    "source_hash": "e77682a8",
    "execution_start": 1646138791471,
    "execution_millis": 2,
    "deepnote_cell_type": "code"
   },
   "source": "df_customers_agrupado = df_customers[['NumDealsPurchases','Kidhome']].groupby(['Kidhome']).mean()\nprint(df_customers_agrupado)\n",
   "execution_count": null,
   "outputs": [
    {
     "name": "stdout",
     "text": "         NumDealsPurchases\nKidhome                   \n0                 1.944316\n1                 2.845384\n2                 2.833333\n",
     "output_type": "stream"
    }
   ]
  },
  {
   "cell_type": "markdown",
   "source": "### Ejercicio 2\n\nObtener la mayor cantidad de ingresos obtenidos (`Income`) para los clientes con diferente tipo de educación (`Education`).",
   "metadata": {
    "cell_id": "21947cc8-7d32-46c4-8d6f-8ff7960c9840",
    "tags": [],
    "deepnote_cell_type": "markdown"
   }
  },
  {
   "cell_type": "markdown",
   "source": "**Respuesta**",
   "metadata": {
    "cell_id": "f29cc89b-b9de-4c5d-a7a4-b9dcb97b5852",
    "tags": [],
    "deepnote_cell_type": "markdown"
   }
  },
  {
   "cell_type": "markdown",
   "source": "",
   "metadata": {
    "cell_id": "abed6857-b600-4f90-b098-f54b8c6c8b68",
    "tags": [],
    "deepnote_cell_type": "markdown"
   }
  },
  {
   "cell_type": "markdown",
   "source": "<a style='text-decoration:none;line-height:16px;display:flex;color:#5B5B62;padding:10px;justify-content:end;' href='https://deepnote.com?utm_source=created-in-deepnote-cell&projectId=6bb6c849-6b4b-49a2-8775-80ecb8e8b9b2' target=\"_blank\">\n<img alt='Created in deepnote.com' style='display:inline;max-height:16px;margin:0px;margin-right:7.5px;' src='data:image/svg+xml;base64,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' > </img>\nCreated in <span style='font-weight:600;margin-left:4px;'>Deepnote</span></a>",
   "metadata": {
    "tags": [],
    "created_in_deepnote_cell": true,
    "deepnote_cell_type": "markdown"
   }
  }
 ],
 "nbformat": 4,
 "nbformat_minor": 2,
 "metadata": {
  "orig_nbformat": 2,
  "deepnote": {
   "is_reactive": false
  },
  "deepnote_notebook_id": "aba2aafe-3c25-472a-97d6-c547ab0e052b",
  "deepnote_execution_queue": []
 }
}